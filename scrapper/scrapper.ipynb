{
 "cells": [
  {
   "cell_type": "code",
   "execution_count": null,
   "metadata": {},
   "outputs": [],
   "source": [
    "import pandas as pd \n",
    "import os \n",
    "\n",
    "\n",
    "import requests as req\n",
    "from scrapy.selector import Selector\n",
    "\n",
    "\n",
    "df = pd.read_csv('datasets_english.csv')\n",
    "\n",
    "\n",
    "def modify_url(str_url):\n",
    "\n",
    "    \n",
    "    return str_url.replace('addataweb.dmp.','') \n",
    "\n",
    "\n",
    "\n",
    "def make_local_folder(folder_name):\n",
    "\n",
    "    if not os.path.exists(folder_name):\n",
    "       os.makedirs(folder_name)\n",
    "\n",
    "\n",
    "def remove_comma(str_comma):\n",
    "    return str_comma.replace(',','')\n",
    "\n",
    "    \n",
    "       \n",
    "\n",
    "\n"
   ]
  },
  {
   "cell_type": "code",
   "execution_count": null,
   "metadata": {},
   "outputs": [],
   "source": [
    "uniques = df['Topic'].unique()\n",
    "print(uniques)\n",
    "uniques_clean = []\n",
    "for u in uniques:\n",
    "\n",
    "   if isinstance(u,float) is not True :\n",
    "       uniques_clean.append(remove_comma(u))\n",
    "\n",
    "\n",
    "          \n",
    "\n",
    "for u in uniques_clean:\n",
    "\n",
    "    make_local_folder(u)\n",
    "\n",
    "\n"
   ]
  },
  {
   "cell_type": "code",
   "execution_count": null,
   "metadata": {},
   "outputs": [],
   "source": [
    "urls = df['Access URL']\n",
    "urls = urls.map(modify_url)\n",
    "df['Access URL'] = urls\n",
    "\n",
    "\n",
    "download_section_xpath = '//*[@id=\"data-and-resources\"]/div/div/ul/li/div/span/a'\n",
    "\n",
    "df['Access URL'] \n",
    "df.to_csv('datasets_english_corrected.csv')\n",
    "\n",
    "\n",
    "\n",
    "\n",
    "\n"
   ]
  },
  {
   "cell_type": "code",
   "execution_count": null,
   "metadata": {},
   "outputs": [],
   "source": [
    "def download_page(url):\n",
    "    page = req.get(url)\n",
    "    return page\n",
    "\n",
    "\n",
    "def select_xpath(page,xpath):\n",
    "    sel = Selector(text=page.text)\n",
    "    return sel.xpath(xpath)\n",
    "\n",
    "\n",
    "\n",
    "def select_attributes(paths):\n",
    "\n",
    "    attrs = []\n",
    "    for path in paths:\n",
    "        attrs.append(path.attrib['href'])\n",
    "    return attrs \n",
    "\n"
   ]
  },
  {
   "cell_type": "code",
   "execution_count": null,
   "metadata": {},
   "outputs": [],
   "source": [
    "# iterate ove rows in df \n",
    "attrs_arr = []\n",
    "for index, row in df.iterrows():\n",
    "    url = row['Access URL']\n",
    "    topic = row['Topic']\n",
    "\n",
    "    if topic == 'Business':\n",
    "\n",
    "        page = download_page(url)\n",
    "\n",
    "        paths = select_xpath(page,download_section_xpath)\n",
    "        attrs = select_attributes(paths)\n",
    "        for att in attrs:\n",
    "            print(att)\n",
    "            attrs_arr.append(att)\n",
    "\n",
    "\n",
    "\n",
    "            \n",
    "\n",
    "        \n",
    "\n",
    "        \n",
    "\n",
    " \n",
    "\n",
    "\n",
    "\n",
    "\n",
    "\n"
   ]
  },
  {
   "cell_type": "code",
   "execution_count": 9,
   "metadata": {},
   "outputs": [
    {
     "data": {
      "text/plain": [
       "1144"
      ]
     },
     "execution_count": 9,
     "metadata": {},
     "output_type": "execute_result"
    }
   ],
   "source": [
    "len(attrs_arr)"
   ]
  },
  {
   "cell_type": "code",
   "execution_count": null,
   "metadata": {},
   "outputs": [],
   "source": [
    "import json"
   ]
  },
  {
   "cell_type": "code",
   "execution_count": null,
   "metadata": {},
   "outputs": [],
   "source": [
    "with open('Business_json_link.json','w') as filehandle:\n",
    "    json.dump(attrs_arr,filehandle)"
   ]
  },
  {
   "cell_type": "code",
   "execution_count": null,
   "metadata": {},
   "outputs": [],
   "source": [
    "for a in sections:\n",
    "\n",
    "    print(a.css('a').text)\n"
   ]
  }
 ],
 "metadata": {
  "interpreter": {
   "hash": "9fa8b399b575b07214a14e79ec6c60f0a511ea3ba888cd4633c1603067bbe680"
  },
  "kernelspec": {
   "display_name": "Python 3.9.7 64-bit ('keras': conda)",
   "language": "python",
   "name": "python3"
  },
  "language_info": {
   "codemirror_mode": {
    "name": "ipython",
    "version": 3
   },
   "file_extension": ".py",
   "mimetype": "text/x-python",
   "name": "python",
   "nbconvert_exporter": "python",
   "pygments_lexer": "ipython3",
   "version": "3.9.7"
  },
  "orig_nbformat": 4
 },
 "nbformat": 4,
 "nbformat_minor": 2
}
